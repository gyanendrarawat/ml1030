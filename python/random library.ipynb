{
 "cells": [
  {
   "cell_type": "code",
   "execution_count": 1,
   "id": "b14475dc",
   "metadata": {},
   "outputs": [],
   "source": [
    "import random"
   ]
  },
  {
   "cell_type": "code",
   "execution_count": null,
   "id": "34756973",
   "metadata": {},
   "outputs": [],
   "source": [
    "#Shift + Tab to see the documentation"
   ]
  },
  {
   "cell_type": "code",
   "execution_count": 7,
   "id": "4d8c7d9d",
   "metadata": {},
   "outputs": [
    {
     "data": {
      "text/plain": [
       "77"
      ]
     },
     "execution_count": 7,
     "metadata": {},
     "output_type": "execute_result"
    }
   ],
   "source": [
    "random.randint(0, 100) #Returns only integer values"
   ]
  },
  {
   "cell_type": "code",
   "execution_count": 15,
   "id": "e6c3af61",
   "metadata": {},
   "outputs": [
    {
     "data": {
      "text/plain": [
       "0.5523387068995963"
      ]
     },
     "execution_count": 15,
     "metadata": {},
     "output_type": "execute_result"
    }
   ],
   "source": [
    "random.random() #Returns only values between 0 and 1"
   ]
  },
  {
   "cell_type": "code",
   "execution_count": 16,
   "id": "802eba0a",
   "metadata": {},
   "outputs": [],
   "source": [
    "import random as r #Using an alias"
   ]
  },
  {
   "cell_type": "code",
   "execution_count": 17,
   "id": "3add4b3a",
   "metadata": {},
   "outputs": [
    {
     "data": {
      "text/plain": [
       "0.9021315247360863"
      ]
     },
     "execution_count": 17,
     "metadata": {},
     "output_type": "execute_result"
    }
   ],
   "source": [
    "r.random()"
   ]
  },
  {
   "cell_type": "code",
   "execution_count": 19,
   "id": "9cba81f7",
   "metadata": {},
   "outputs": [
    {
     "data": {
      "text/plain": [
       "8"
      ]
     },
     "execution_count": 19,
     "metadata": {},
     "output_type": "execute_result"
    }
   ],
   "source": [
    "r.randint(0,10)"
   ]
  },
  {
   "cell_type": "code",
   "execution_count": 20,
   "id": "b5588f2f",
   "metadata": {},
   "outputs": [],
   "source": [
    "from random import random, uniform #Importing only specific functions"
   ]
  },
  {
   "cell_type": "code",
   "execution_count": 21,
   "id": "fb196c53",
   "metadata": {},
   "outputs": [
    {
     "data": {
      "text/plain": [
       "0.9072313087034456"
      ]
     },
     "execution_count": 21,
     "metadata": {},
     "output_type": "execute_result"
    }
   ],
   "source": [
    "random()"
   ]
  },
  {
   "cell_type": "code",
   "execution_count": 23,
   "id": "80e9d1a3",
   "metadata": {},
   "outputs": [
    {
     "data": {
      "text/plain": [
       "4.521258763926015"
      ]
     },
     "execution_count": 23,
     "metadata": {},
     "output_type": "execute_result"
    }
   ],
   "source": [
    "uniform(0,10)"
   ]
  },
  {
   "cell_type": "code",
   "execution_count": null,
   "id": "dd49c4fc",
   "metadata": {},
   "outputs": [],
   "source": [
    "random.choice(['a', 'b'])"
   ]
  }
 ],
 "metadata": {
  "kernelspec": {
   "display_name": "Python 3",
   "language": "python",
   "name": "python3"
  },
  "language_info": {
   "codemirror_mode": {
    "name": "ipython",
    "version": 3
   },
   "file_extension": ".py",
   "mimetype": "text/x-python",
   "name": "python",
   "nbconvert_exporter": "python",
   "pygments_lexer": "ipython3",
   "version": "3.8.8"
  }
 },
 "nbformat": 4,
 "nbformat_minor": 5
}
